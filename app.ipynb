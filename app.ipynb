{
 "cells": [
  {
   "cell_type": "code",
   "execution_count": null,
   "metadata": {},
   "outputs": [],
   "source": [
    "!pip install yfinance\n",
    "!pip install optuna\n",
    "import yfinance as yf\n",
    "# Import the libraries\n",
    "import numpy as np\n",
    "import matplotlib.pyplot as plt  # for 畫圖用\n",
    "import pandas as pd\n",
    "from keras.models import Sequential\n",
    "from keras.layers import Dense\n",
    "from keras.layers import LSTM\n",
    "from keras.layers import Dropout\n",
    "import optuna\n",
    "from sklearn.preprocessing import MinMaxScaler"
   ]
  },
  {
   "cell_type": "code",
   "execution_count": null,
   "metadata": {},
   "outputs": [],
   "source": [
    "tsm = yf.Ticker('2330.tw')\n",
    "tsla = yf.Ticker('TSLA')"
   ]
  },
  {
   "cell_type": "code",
   "execution_count": null,
   "metadata": {},
   "outputs": [],
   "source": [
    "yf.download('TSM TSLA',start='2016-01-01',end='2022-01-01')#過去的資料也可以用interval\n",
    "data_set=yf.download('2330.tw',start='2016-01-01',end='2022-01-01')\n",
    "#data_set"
   ]
  },
  {
   "cell_type": "code",
   "execution_count": null,
   "metadata": {},
   "outputs": [],
   "source": [
    "# dataset_train= pd.read_csv('Google_Stock_Price_Train.csv')\n",
    "dataset_train= data_set\n",
    "training_set = dataset_train.iloc[:, 1:2].values  # 取「Open」欄位值"
   ]
  },
  {
   "cell_type": "code",
   "execution_count": null,
   "metadata": {},
   "outputs": [],
   "source": [
    "np.shape(dataset_train)\n",
    "sc = MinMaxScaler(feature_range = (0, 1))"
   ]
  },
  {
   "cell_type": "code",
   "execution_count": null,
   "metadata": {},
   "outputs": [],
   "source": [
    "def processing_data(dataset,mode='train'):\n",
    "      X = []   #預測點的前 60 天的資料\n",
    "  y = []   #預測點1151/1258\n",
    "  global sc\n",
    "  # sc = MinMaxScaler(feature_range = (0, 1))\n",
    "  if mode=='train':\n",
    "    \n",
    "    data_set_scaled = sc.fit_transform(dataset)\n",
    "\n",
    "    for i in range(60, 1461):  # 1258 是訓練集總數\n",
    "        X.append(data_set_scaled[i-60:i, 0])\n",
    "        y.append(data_set_scaled[i, 0])\n",
    "\n",
    "  else:\n",
    "    \n",
    "    dataset_total = pd.concat((dataset_train['Open'], dataset['Open']), axis = 0)\n",
    "    inputs = dataset_total[len(dataset_total) - len(dataset_test) - 60:].values#從train中那60天\n",
    "    inputs = inputs.reshape(-1,1)\n",
    "    inputs = sc.transform(inputs) # Feature Scaling\n",
    "\n",
    "    for i in range(60, 458+60):  # timesteps一樣60； 80 = 先前的60天資料\n",
    "        X.append(inputs[i-60:i, 0])\n",
    "        y.append(inputs[i-60:i, 0])\n",
    "\n",
    "\n",
    "    #0 0-60\n",
    "  X_processed, y_processed = np.array(X), np.array(y)  # 轉成numpy array的格式，以利輸入 RNN\n",
    "  X_processed = np.reshape(X_processed, (X_processed.shape[0], X_processed.shape[1], 1))\n",
    "\n",
    "  return X_processed,y_processed\n",
    "\n",
    "\n",
    "# processing_data(training_set,'train')"
   ]
  },
  {
   "cell_type": "code",
   "execution_count": null,
   "metadata": {},
   "outputs": [],
   "source": [
    "# X_train = np.reshape(X_train, (X_train.shape[0], X_train.shape[1], 1))\n",
    "train_x,train_y=processing_data(training_set,'train')"
   ]
  },
  {
   "cell_type": "code",
   "execution_count": null,
   "metadata": {},
   "outputs": [],
   "source": [
    "regressor = Sequential()"
   ]
  },
  {
   "cell_type": "code",
   "execution_count": null,
   "metadata": {},
   "outputs": [],
   "source": [
    "\n",
    "regressor.add(LSTM(units = 50, return_sequences = True, input_shape = (train_x.shape[1], 1)))\n",
    "regressor.add(Dropout(0.2))\n",
    "\n",
    "regressor.add(LSTM(units = 50, return_sequences = True))\n",
    "regressor.add(Dropout(0.2))\n",
    "\n",
    "regressor.add(LSTM(units = 50, return_sequences = True))\n",
    "regressor.add(Dropout(0.2))\n",
    "\n",
    "regressor.add(LSTM(units = 50))\n",
    "regressor.add(Dropout(0.2))"
   ]
  },
  {
   "cell_type": "code",
   "execution_count": null,
   "metadata": {},
   "outputs": [],
   "source": [
    "\n",
    "regressor.add(Dense(units = 1))"
   ]
  },
  {
   "cell_type": "code",
   "execution_count": null,
   "metadata": {},
   "outputs": [],
   "source": [
    "regressor.compile(optimizer = 'rmsprop', loss = 'mean_squared_error')\n",
    "\n",
    "# 進行訓練\n",
    "\n",
    "regressor.fit(train_x, train_y, epochs = 100, batch_size = 32)"
   ]
  },
  {
   "cell_type": "code",
   "execution_count": null,
   "metadata": {},
   "outputs": [],
   "source": [
    "regressor.save('tsm2330_100epoch.h5')"
   ]
  },
  {
   "cell_type": "code",
   "execution_count": null,
   "metadata": {},
   "outputs": [],
   "source": [
    "yf.download('2330.tw',start='2022-01-02',end='2023-11-23')\n",
    "\n",
    "dataset_test=yf.download('2330.tw',start='2022-01-02',end='2023-11-23')\n",
    "real_stock_price = dataset_test.iloc[:, 1:2].values"
   ]
  },
  {
   "cell_type": "code",
   "execution_count": null,
   "metadata": {},
   "outputs": [],
   "source": [
    "test_x,test_y=processing_data(dataset_test,'test')\n"
   ]
  },
  {
   "cell_type": "code",
   "execution_count": null,
   "metadata": {},
   "outputs": [],
   "source": [
    "predicted_stock_price = regressor.predict(test_x)\n",
    "predicted_stock_price = sc.inverse_transform(predicted_stock_price)  # to get the original scale"
   ]
  },
  {
   "cell_type": "code",
   "execution_count": null,
   "metadata": {},
   "outputs": [],
   "source": [
    "np.shape(predicted_stock_price)"
   ]
  },
  {
   "cell_type": "code",
   "execution_count": null,
   "metadata": {},
   "outputs": [],
   "source": [
    "plt.plot(real_stock_price, color = 'red', label = 'Real TSM Price')  # 紅線表示真實股價\n",
    "plt.plot(predicted_stock_price, color = 'blue', label = 'TSM Price')  # 藍線表示預測股價\n",
    "\n",
    "plt.title('TSM Price Prediction')\n",
    "plt.xlabel('Time')\n",
    "plt.ylabel('TSM Price')\n",
    "plt.legend()\n",
    "plt.show()\n"
   ]
  },
  {
   "cell_type": "code",
   "execution_count": null,
   "metadata": {},
   "outputs": [],
   "source": [
    "plt.plot(real_stock_price-predicted_stock_price, color = 'blue', label = 'err')  # 藍線表示預測股價\n",
    "plt.show()"
   ]
  }
 ],
 "metadata": {
  "language_info": {
   "name": "python"
  }
 },
 "nbformat": 4,
 "nbformat_minor": 2
}
